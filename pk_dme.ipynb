{
 "cells": [
  {
   "cell_type": "code",
   "execution_count": 1,
   "metadata": {},
   "outputs": [
    {
     "ename": "ImportError",
     "evalue": "/home/davidvng/.local/lib/python3.8/site-packages/classy.cpython-38-x86_64-linux-gnu.so: undefined symbol: _ZGVbN2v___exp_finite",
     "output_type": "error",
     "traceback": [
      "\u001b[0;31m---------------------------------------------------------------------------\u001b[0m",
      "\u001b[0;31mImportError\u001b[0m                               Traceback (most recent call last)",
      "\u001b[0;32m<ipython-input-1-244ad60a0623>\u001b[0m in \u001b[0;36m<module>\u001b[0;34m\u001b[0m\n\u001b[0;32m----> 1\u001b[0;31m \u001b[0;32mfrom\u001b[0m \u001b[0mclassy\u001b[0m \u001b[0;32mimport\u001b[0m \u001b[0mClass\u001b[0m\u001b[0;34m\u001b[0m\u001b[0;34m\u001b[0m\u001b[0m\n\u001b[0m\u001b[1;32m      2\u001b[0m \u001b[0;32mimport\u001b[0m \u001b[0mmatplotlib\u001b[0m\u001b[0;34m.\u001b[0m\u001b[0mpyplot\u001b[0m \u001b[0;32mas\u001b[0m \u001b[0mplt\u001b[0m\u001b[0;34m\u001b[0m\u001b[0;34m\u001b[0m\u001b[0m\n\u001b[1;32m      3\u001b[0m \u001b[0;32mfrom\u001b[0m \u001b[0mmath\u001b[0m \u001b[0;32mimport\u001b[0m \u001b[0mpi\u001b[0m\u001b[0;34m\u001b[0m\u001b[0;34m\u001b[0m\u001b[0m\n\u001b[1;32m      4\u001b[0m \u001b[0;32mimport\u001b[0m \u001b[0mnumpy\u001b[0m \u001b[0;32mas\u001b[0m \u001b[0mnp\u001b[0m\u001b[0;34m\u001b[0m\u001b[0;34m\u001b[0m\u001b[0m\n\u001b[1;32m      5\u001b[0m \u001b[0;34m\u001b[0m\u001b[0m\n",
      "\u001b[0;31mImportError\u001b[0m: /home/davidvng/.local/lib/python3.8/site-packages/classy.cpython-38-x86_64-linux-gnu.so: undefined symbol: _ZGVbN2v___exp_finite"
     ]
    }
   ],
   "source": [
    "from classy import Class\n",
    "import matplotlib.pyplot as plt\n",
    "from math import pi\n",
    "import numpy as np\n",
    "\n",
    "params = {\n",
    "    'h': 0.67556,\n",
    "    'omega_b': 0.022032,\n",
    "    'omega_cdm': 0.12038,\n",
    "    'Omega_k': 0.,\n",
    "    'A_s': 2.215e-9,\n",
    "    'n_s': 0.96,\n",
    "    'tau_reio': 0.0925,\n",
    "    'output': 'tCl,pCl,lCl,mPk','lensing':'yes','P_k_max_1/Mpc':3.0,\n",
    "}\n",
    "\n",
    "cosmo = Class()\n",
    "cosmo.set(params)\n",
    "cosmo.compute()\n",
    "\n",
    "kk = np.logspace(-4,np.log10(3),1000)\n",
    "Pk_lcdm = []\n",
    "for k in kk:\n",
    "    Pk_lcdm.append(cosmo.pk(k,0.)) # function .pk(k,z)\n",
    "\n",
    "cosmo.struct_cleanup()\n",
    "\n",
    "dmeparams = {\n",
    "    'dmb_target': 'electron',   # set target\n",
    "    'h': 0.67556,\n",
    "    'omega_b': 0.022032,\n",
    "    'omega_cdm': 1.0e-20,\n",
    "    'omega_dmb': 0.12038,\n",
    "    'm_dmb': 1.0,\n",
    "    'log10sigma_dmb': -27\n",
    "    'n_dmb': 0,\n",
    "    'Omega_k': 0.,\n",
    "    'A_s': 2.215e-9,\n",
    "    'n_s': 0.96,\n",
    "    'tau_reio': 0.0925,\n",
    "    'output': 'tCl,pCl,lCl,mPk','lensing':'yes','P_k_max_1/Mpc':3.0,\n",
    "}\n",
    "\n",
    "cosmo = Class()\n",
    "cosmo.set(dmeparams)\n",
    "cosmo.compute()\n",
    "\n",
    "kk = np.logspace(-4,np.log10(3),1000)\n",
    "Pk_dme = []\n",
    "for k in kk:\n",
    "    Pk_dme.append(cosmo.pk(k,0.)) # function .pk(k,z)\n",
    "    \n",
    "plt.figure(1)\n",
    "plt.xscale('log');plt.yscale('log');plt.xlim(kk[0],kk[-1])\n",
    "plt.xlabel(r'$k \\,\\,\\,\\, [h/\\mathrm{Mpc}]$')\n",
    "plt.ylabel(r'$P_{dme} / P_{LCDM} \\,\\,\\,\\, [\\mathrm{Mpc}/h]^3$')\n",
    "plt.plot(kk,Pk_dme/Pk_lcdm,'b-')\n",
    "plt.savefig('pk_diff.pdf')"
   ]
  },
  {
   "cell_type": "code",
   "execution_count": null,
   "metadata": {},
   "outputs": [],
   "source": []
  }
 ],
 "metadata": {
  "kernelspec": {
   "display_name": "Python 3",
   "language": "python",
   "name": "python3"
  },
  "language_info": {
   "codemirror_mode": {
    "name": "ipython",
    "version": 3
   },
   "file_extension": ".py",
   "mimetype": "text/x-python",
   "name": "python",
   "nbconvert_exporter": "python",
   "pygments_lexer": "ipython3",
   "version": "3.8.2"
  }
 },
 "nbformat": 4,
 "nbformat_minor": 4
}
