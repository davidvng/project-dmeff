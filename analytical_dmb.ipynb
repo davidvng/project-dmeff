{
 "cells": [
  {
   "cell_type": "code",
   "execution_count": 52,
   "metadata": {},
   "outputs": [
    {
     "name": "stdout",
     "output_type": "stream",
     "text": [
      "169171.7559705463\n",
      "zth: 169171.75597054456\n",
      "zcrit: 95615.49032033558\n",
      "kcrit: 0.4288036022565983\n"
     ]
    },
    {
     "data": {
      "text/plain": [
       "True"
      ]
     },
     "execution_count": 52,
     "metadata": {},
     "output_type": "execute_result"
    }
   ],
   "source": [
    "import math\n",
    "import numpy as np\n",
    "\n",
    "N0 = (2**(7/2))/(3*np.sqrt(math.pi))\n",
    "c = 3e5 # speed of light in km/s^2\n",
    "Mpc2cm = 3.086e24 # 1 Mpc = 3.086e24 cm\n",
    "omega_b = 0.044 # baryon density\n",
    "rho_crit = 4.755e-6 # critical density in (GeV/c^2)*cm^-3\n",
    "YHe = 0.24 # helium mass fraction\n",
    "Yp = 1.0-YHe # proton mass fraction\n",
    "k = 8.617e-14 # Boltzmann constant in GeV/K\n",
    "T0 = 2.73 # temperature of CMB today in K\n",
    "kT0 = k*T0\n",
    "\n",
    "B = c*Mpc2cm*N0*omega_b*rho_crit*Yp*(kT0**0.5)\n",
    "\n",
    "omega_rad = 1.0e-4 # radiation density\n",
    "H0 = 67.27 # Hubble constant in km/s/Mpc\n",
    "mp = 1.0 # proton mass in GeV/c^2\n",
    "\n",
    "mx = 1.0 # dark matter mass in GeV/c^2\n",
    "sigma0 = 1.8e-25 # cross section in cm^2\n",
    "\n",
    "zth = np.power((H0*np.sqrt(omega_rad)*np.sqrt(mx+mp)*np.sqrt(mx*mp)*((mx+mp)/mx))/(B*sigma0), 2./3.)\n",
    "print(zth)\n",
    "\n",
    "from scipy.optimize import fsolve\n",
    "\n",
    "def func(x):\n",
    "    return [(((mx/(mx+mp))*(B*sigma0*(1/(mx+mp))*(((x[0])*((1/mp)+(1/mx)))**(0.5)))) - (H0*math.sqrt(omega_rad)*(x[0]**2))),\n",
    "            ((B*sigma0*(1/(mx+mp))*((((x[1])/mp)+(((x[1])**2)/(mx*x[0])))**(0.5))) - (H0*math.sqrt(omega_rad)*(x[1]**2)))]\n",
    "\n",
    "root = fsolve(func, [1, 1])\n",
    "zth = 1/root[0]\n",
    "zcrit = 1/root[1]\n",
    "print(\"zth:\", zth)\n",
    "print(\"zcrit:\", zcrit)\n",
    "\n",
    "kcrit = (2*H0*(math.sqrt(omega_rad))*zcrit)/c # 1/Mpc\n",
    "print(\"kcrit:\", kcrit)\n",
    "\n",
    "k = 0.0857 # 1/Mpc\n",
    "bool(kcrit > k)"
   ]
  },
  {
   "cell_type": "code",
   "execution_count": null,
   "metadata": {},
   "outputs": [],
   "source": []
  },
  {
   "cell_type": "code",
   "execution_count": 1,
   "metadata": {},
   "outputs": [
    {
     "name": "stdout",
     "output_type": "stream",
     "text": [
      "mx: 1.000000e-06\n",
      "zth: 19724774.973122437\n",
      "zcrit: 19719.840696770367 \n",
      "\n",
      "mx: 1.000000e-03\n",
      "zth: 629432.5588197407\n",
      "zcrit: 19743.921030704474 \n",
      "\n",
      "mx: 1.000000e+00\n",
      "zth: 29848.361615531358\n",
      "zcrit: 19971.735603187735 \n",
      "\n",
      "mx: 1.000000e+03\n",
      "zth: 19973.340487138656\n",
      "zcrit: 19960.040439232096 \n",
      "\n",
      "[4.33148322e-26 2.40647515e-25 2.08122157e-24 1.34626058e-21]\n",
      "Percent errors:\n",
      "1.000000e-06 : 88.41043646918044\n",
      "1.000000e-03 : 89.81913442993874\n",
      "1.000000e+00 : 90.58245393827596\n",
      "1.000000e+03 : 95.81061787983339\n"
     ]
    },
    {
     "data": {
      "image/png": "[encoded data removed]",
      "text/plain": [
       "<Figure size 432x288 with 1 Axes>"
      ]
     },
     "metadata": {
      "needs_background": "light"
     },
     "output_type": "display_data"
    }
   ],
   "source": [
    "import numpy as np\n",
    "from scipy.optimize import fsolve\n",
    "\n",
    "k = 0.0857 #1/Mpc\n",
    "\n",
    "def k_crit(mx,sigma0,omega_b=0.05,omega_rad=9.23640e-5,\n",
    "                 H0=67.27,kT0=2.353e-13,rho_crit=4.755e-6,\n",
    "                 cc=3e5,Mpc2cm=3.086e24,reduction_factor=1.,mp=1.,YHe=0.25,n=0.):\n",
    "    N0 = (pow(2.,(7./2.)))/(3.*np.sqrt(np.pi))\n",
    "    B = cc*Mpc2cm*N0*omega_b*rho_crit*(1.-YHe)*np.sqrt(kT0)\n",
    "    zth = np.power((H0*(np.sqrt(omega_rad))*(np.sqrt(mx+mp))*(np.sqrt(mx*mp))*((mx+mp)/mx))/(B*sigma0), 2./3.)\n",
    "    #print(zth)\n",
    "    H = H0*np.sqrt(omega_rad)\n",
    "    def f(z):\n",
    "         return(B*(z**3.)*sigma0*(1./(mx+mp))*(((z/mp)+((z**2.)/(mx*zth)))**(0.5))) - (H*(z**2.))\n",
    "    zcrit = fsolve(f, zth)\n",
    "    #print(zcrit)\n",
    "    kcrit = (2*H0*(np.sqrt(omega_rad))*zcrit)/cc\n",
    "    return zth, zcrit, kcrit\n",
    "\n",
    "masses = np.array([1e-6, 1e-3, 1., 1e3])\n",
    "sigmas = np.zeros(len(masses))\n",
    "sigma_array = np.logspace(-18,-30,1000)\n",
    "\n",
    "for i in range(len(masses)):\n",
    "    mx=masses[i]\n",
    "    print(\"mx:\", format(mx, 'e'))\n",
    "    \n",
    "    zdec, zdecprime, kdec = k_crit(mx=mx, sigma0=sigma_array)\n",
    "    sigmas[i] = sigma_array[np.argmin(np.abs(kdec-k))]\n",
    "    print(\"zth:\", zdec[np.argmin(np.abs(kdec-k))])\n",
    "    print(\"zcrit:\", zdecprime[np.argmin(np.abs(kdec-k))], \"\\n\")\n",
    "    \n",
    "print(sigmas)\n",
    "\n",
    "import matplotlib.pyplot as plt\n",
    "\n",
    "proton_chains = np.array([5.02e-27, 2.45e-26, 1.96e-25, 5.64e-23])\n",
    "\n",
    "f,ax = plt.subplots()\n",
    "\n",
    "ax.plot(masses, sigmas, marker='.', label='Analytical')\n",
    "ax.plot(masses, proton_chains, marker='.', label='Numerical')\n",
    "ax.set_title('DM-proton scattering (n=0)')\n",
    "ax.set_xlabel('$m_\\chi$ $[\\mathrm{GeV}]$')\n",
    "ax.set_ylabel('$\\sigma_0$ $[\\mathrm{cm}^2]$')\n",
    "ax.set_xscale('log')\n",
    "ax.set_yscale('log')\n",
    "ax.set_xlim([1.0e-6, 1.0e3])\n",
    "ax.set_ylim([1.0e-30, 1.0e-20])\n",
    "ax.fill_between(masses, sigmas, 1.0e-20, alpha=0.2)\n",
    "ax.fill_between(masses, proton_chains, 1.0e-20, alpha=0.2)\n",
    "plt.legend(loc=\"lower right\")\n",
    "\n",
    "print(\"Percent errors:\")\n",
    "for i in range(len(sigmas)):\n",
    "    error = abs((proton_chains[i]-sigmas[i])/sigmas[i])*100\n",
    "    print(format(masses[i], 'e'), \":\", error)"
   ]
  },
  {
   "cell_type": "code",
   "execution_count": 2,
   "metadata": {},
   "outputs": [
    {
     "name": "stdout",
     "output_type": "stream",
     "text": [
      "mx: 1e-06\n",
      "zth: 456671.82075219066\n",
      "zcrit: 19972.333828000406 \n",
      "\n",
      "mx: 1e-03\n",
      "zth: 25637.637148333786\n",
      "zcrit: 19980.04483011891 \n",
      "\n",
      "mx: 1e+00\n",
      "zth: 19948.280674775753\n",
      "zcrit: 19941.489008883043 \n",
      "\n",
      "mx: 1e+03\n",
      "zth: 19846.40375042482\n",
      "zcrit: 19846.396989420653 \n",
      "\n",
      "[5.91250841e-27 7.12611543e-26 5.59432571e-23 5.63314267e-20]\n",
      "Percent errors:\n",
      "1e-06 : 83.3%\n",
      "1e-03 : 91.9%\n",
      "1e+00 : 90.1%\n",
      "1e+03 : 84.5%\n"
     ]
    },
    {
     "data": {
      "image/png": "[encoded data removed]",
      "text/plain": [
       "<Figure size 432x288 with 1 Axes>"
      ]
     },
     "metadata": {
      "needs_background": "light"
     },
     "output_type": "display_data"
    }
   ],
   "source": [
    "import numpy as np\n",
    "from scipy.optimize import fsolve\n",
    "\n",
    "k = 0.0857 #0.0857\n",
    "\n",
    "def k_crit(mx,sigma0,omega_b=0.05,omega_rad=9.23640e-5,\n",
    "                 H0=67.27,kT0=2.353e-13,rho_crit=4.755e-6,\n",
    "                 cc=3e5,Mpc2cm=3.086e24,reduction_factor=1.,mp=0.511e-3,YHe=0.25,n=0.):\n",
    "    N0 = (pow(2.,(7./2.)))/(3.*np.sqrt(np.pi))\n",
    "    B = cc*Mpc2cm*N0*omega_b*rho_crit*((1.-YHe)/1836.152)*np.sqrt(kT0)\n",
    "    zth = np.power((H0*(np.sqrt(omega_rad))*(np.sqrt(mx+mp))*(np.sqrt(mx*mp))*((mx+mp)/mx))/(B*sigma0), 2./3.)\n",
    "    #print(zth)\n",
    "    H = H0*np.sqrt(omega_rad)\n",
    "    def f(z):\n",
    "         return(B*(z**3.)*sigma0*(1./(mx+mp))*(((z/mp)+((z**2.)/(mx*zth)))**(0.5))) - (H*(z**2.))\n",
    "    zcrit = fsolve(f, zth)\n",
    "    #print(zcrit)\n",
    "    kcrit = (2*H0*(np.sqrt(omega_rad))*zcrit)/cc\n",
    "    return zth, zcrit, kcrit\n",
    "\n",
    "masses = np.array([1e-6, 1e-3, 1., 1e3])\n",
    "sigmas = np.zeros(len(masses))\n",
    "sigma_array = np.logspace(-18,-30,1000)\n",
    "\n",
    "for i in range(len(masses)):\n",
    "    mx=masses[i]\n",
    "    print(\"mx:\", format(mx, '.0e'))\n",
    "    \n",
    "    zdec, zdecprime, kdec = k_crit(mx=mx, sigma0=sigma_array)\n",
    "    sigmas[i] = sigma_array[np.argmin(np.abs(kdec-k))]\n",
    "    print(\"zth:\", zdec[np.argmin(np.abs(kdec-k))])\n",
    "    print(\"zcrit:\", zdecprime[np.argmin(np.abs(kdec-k))], \"\\n\")\n",
    "    \n",
    "print(sigmas)\n",
    "\n",
    "import matplotlib.pyplot as plt\n",
    "\n",
    "electron_chains = np.array([9.90e-28, 5.78e-27, 5.53e-24, 8.71e-21])\n",
    "\n",
    "f,ax = plt.subplots()\n",
    "\n",
    "ax.plot(masses, sigmas, marker='.', label='Analytical')\n",
    "ax.plot(masses, electron_chains, marker='.', label='Numerical')\n",
    "ax.set_title('DM-electron scattering (n=0, Vrel=0)')\n",
    "ax.set_xlabel('Dark Matter Particle Mass (in electron masses), $m_\\chi$ $[\\mathrm{GeV}]$')\n",
    "ax.set_ylabel('Interaction Cross Section, $\\sigma_e$ $[\\mathrm{cm}^2]$')\n",
    "ax.set_xscale('log')\n",
    "ax.set_yscale('log')\n",
    "ax.set_xlim([1.0e-6, 1.0e3])\n",
    "ax.set_ylim([1.0e-30, 1.0e-20])\n",
    "ax.fill_between(masses, sigmas, 1.0e-20, alpha=0.2)\n",
    "ax.fill_between(masses, electron_chains, 1.0e-20, alpha=0.2)\n",
    "plt.legend(loc='lower right')\n",
    "plt.savefig('dme_analytical.pdf')\n",
    "plt.savefig('dme_analytical.png', dpi=300)\n",
    "\n",
    "print(\"Percent errors:\")\n",
    "for i in range(len(sigmas)):\n",
    "    error = abs((electron_chains[i]-sigmas[i])/sigmas[i])\n",
    "    print(format(masses[i], '.0e'), \":\", format(error, '.1%'))"
   ]
  },
  {
   "cell_type": "code",
   "execution_count": 1,
   "metadata": {},
   "outputs": [
    {
     "name": "stdout",
     "output_type": "stream",
     "text": [
      "mx: 1e-06\n",
      "zth: 2267950.5272753322\n",
      "zcrit: 99187.78207406001 \n",
      "\n",
      "mx: 1e-03\n",
      "zth: 123469.78142315909\n",
      "zcrit: 96223.05494561423 \n",
      "\n",
      "mx: 1e+00\n",
      "zth: 98612.69568184736\n",
      "zcrit: 98579.12163640605 \n",
      "\n",
      "mx: 1e+03\n",
      "zth: 98109.07542996648\n",
      "zcrit: 98109.04200749476 \n",
      "\n",
      "n = 0.0\n",
      "[5.34229330e-28 6.74262224e-27 5.08987019e-24 5.12518693e-21] \n",
      "\n",
      "mx: 1e-06\n",
      "zth: 459876.015831241\n",
      "zcrit: 96411.42398807018 \n",
      "\n",
      "mx: 1e-03\n",
      "zth: 111001.37269913143\n",
      "zcrit: 96663.29929870977 \n",
      "\n",
      "mx: 1e+00\n",
      "zth: 97341.62881250696\n",
      "zcrit: 97321.745389593 \n",
      "\n",
      "mx: 1e+03\n",
      "zth: 97062.85883189054\n",
      "zcrit: 97062.8389922553 \n",
      "\n",
      "n = 2.0\n",
      "[8.99402217e-27 1.70699493e-23 1.92879151e-20 1.94217468e-17] \n",
      "\n",
      "mx: 1e-06\n",
      "zth: 278193.6235244337\n",
      "zcrit: 98209.98040013728 \n",
      "\n",
      "mx: 1e-03\n",
      "zth: 107824.5749749279\n",
      "zcrit: 97996.78993551355 \n",
      "\n",
      "mx: 1e+00\n",
      "zth: 96813.78429869135\n",
      "zcrit: 96799.6592799096 \n",
      "\n",
      "mx: 1e+03\n",
      "zth: 98233.78236843963\n",
      "zcrit: 98233.76802631743 \n",
      "\n",
      "n = 4.0\n",
      "[6.02254120e-26 3.05833803e-20 5.47947234e-17 5.20854855e-14] \n",
      "\n",
      "mx: 1e-06\n",
      "zth: 213473.0131681883\n",
      "zcrit: 97779.01264134399 \n",
      "\n",
      "mx: 1e-03\n",
      "zth: 104920.3330685932\n",
      "zcrit: 97535.14653993762 \n",
      "\n",
      "mx: 1e+00\n",
      "zth: 97925.39349195482\n",
      "zcrit: 97914.28140438127 \n",
      "\n",
      "mx: 1e+03\n",
      "zth: 97791.67238872261\n",
      "zcrit: 97791.66128394287 \n",
      "\n",
      "n = 6.0\n",
      "[3.02329468e-25 4.60960449e-17 1.16698982e-13 1.17508713e-10] \n",
      "\n",
      "[[5.34229330e-28 6.74262224e-27 5.08987019e-24 5.12518693e-21]\n",
      " [8.99402217e-27 1.70699493e-23 1.92879151e-20 1.94217468e-17]\n",
      " [6.02254120e-26 3.05833803e-20 5.47947234e-17 5.20854855e-14]\n",
      " [3.02329468e-25 4.60960449e-17 1.16698982e-13 1.17508713e-10]]\n"
     ]
    }
   ],
   "source": [
    "import numpy as np\n",
    "from scipy.optimize import fsolve\n",
    "from scipy.special import gamma\n",
    "\n",
    "k = 0.42\n",
    "\n",
    "def k_crit(mx,sigma0,n,omega_b=0.05,omega_rad=9.23640e-5,\n",
    "                 H0=67.27,kT0=2.353e-13,rho_crit=4.755e-6,\n",
    "                 cc=3e5,Mpc2cm=3.086e24,reduction_factor=1.,mp=0.511e-3,YHe=0.25):\n",
    "    N0 = pow(2,(5.+n)/2.)*gamma(3.+n/2.)/(3.*np.sqrt(np.pi))\n",
    "    B = cc*Mpc2cm*N0*omega_b*rho_crit*((1.-YHe)/1836.152)*pow(kT0, (n+1.)/2.)\n",
    "    zth = np.power((H0*(np.sqrt(omega_rad))*(pow((mx*mp)/(mx+mp), (n+1.)/2))*((pow(mx+mp, 2.))/mx))/(B*sigma0), 2./(n+3.))\n",
    "    #print(zth)\n",
    "    H = H0*np.sqrt(omega_rad)\n",
    "    def f(z):\n",
    "         return(B*(z**3.)*sigma0*(1./(mx+mp))*(pow((z/mp)+((z**2.)/(mx*zth)), (n+1.)/2)) - (H*(z**2.)))\n",
    "    zcrit = fsolve(f, zth)\n",
    "    #print(zcrit)\n",
    "    kcrit = (2*H0*(np.sqrt(omega_rad))*zcrit)/cc\n",
    "    return zth, zcrit, kcrit\n",
    "\n",
    "masses = np.array([1e-6, 1e-3, 1., 1e3])\n",
    "sigma_array = np.logspace(-5,-30,1000)\n",
    "ns = np.array([0., 2., 4., 6.])\n",
    "sigmaout = np.array([np.zeros(len(masses)), np.zeros(len(masses)), np.zeros(len(masses)), np.zeros(len(masses))])\n",
    "\n",
    "for j in range(len(ns)):\n",
    "    sigmas = np.zeros(len(masses))\n",
    "    for i in range(len(masses)):\n",
    "        mx=masses[i]\n",
    "        print(\"mx:\", format(mx, '.0e'))\n",
    "    \n",
    "        zdec, zdecprime, kdec = k_crit(mx=mx, sigma0=sigma_array, n=ns[j])\n",
    "        sigmas[i] = sigma_array[np.argmin(np.abs(kdec-k))]\n",
    "        print(\"zth:\", zdec[np.argmin(np.abs(kdec-k))])\n",
    "        print(\"zcrit:\", zdecprime[np.argmin(np.abs(kdec-k))], \"\\n\")\n",
    "    \n",
    "    print(\"n =\", ns[j])\n",
    "    print(sigmas, \"\\n\")\n",
    "    sigmaout[j] = sigmas\n",
    "\n",
    "print(sigmaout)"
   ]
  },
  {
   "cell_type": "code",
   "execution_count": 2,
   "metadata": {},
   "outputs": [
    {
     "data": {
      "text/plain": [
       "<matplotlib.legend.Legend at 0x7ffb8c0b5970>"
      ]
     },
     "execution_count": 2,
     "metadata": {},
     "output_type": "execute_result"
    },
    {
     "data": {
      "image/png": "[encoded data removed]",
      "text/plain": [
       "<Figure size 432x288 with 1 Axes>"
      ]
     },
     "metadata": {
      "needs_background": "light"
     },
     "output_type": "display_data"
    }
   ],
   "source": [
    "import matplotlib.pyplot as plt\n",
    "\n",
    "f,ax = plt.subplots()\n",
    "\n",
    "ax.plot(masses, sigmaout[0], marker='.', label='Analytical, n = 0')\n",
    "ax.plot(masses, sigmaout[1], marker='.', label='Analytical, n = 2')\n",
    "ax.plot(masses, sigmaout[2], marker='.', label='Analytical, n = 4')\n",
    "ax.plot(masses, sigmaout[3], marker='.', label='Analytical, n = 6')\n",
    "#ax.set_title('DM-electron scattering (n=0, Vrel=0)')\n",
    "ax.set_xlabel('$m_\\chi$ $[\\mathrm{GeV}]$')\n",
    "ax.set_ylabel('$\\sigma_0$ $[\\mathrm{cm}^2]$')\n",
    "ax.set_xscale('log')\n",
    "ax.set_yscale('log')\n",
    "ax.set_xlim([1.0e-6, 1.0e3])\n",
    "ax.set_ylim([1.0e-30, 1.0e-8])\n",
    "ax.fill_between(masses, sigmaout[0], 1.0e-8, alpha=0.2)\n",
    "ax.fill_between(masses, sigmaout[1], 1.0e-8, alpha=0.2)\n",
    "ax.fill_between(masses, sigmaout[2], 1.0e-8, alpha=0.2)\n",
    "ax.fill_between(masses, sigmaout[3], 1.0e-8, alpha=0.2)\n",
    "plt.legend(loc='lower right')\n",
    "#plt.savefig('dme_analytical.pdf')"
   ]
  },
  {
   "cell_type": "code",
   "execution_count": 4,
   "metadata": {},
   "outputs": [
    {
     "name": "stdout",
     "output_type": "stream",
     "text": [
      "Analytical:\n",
      "TeV n2/n0 = 3789.4709190746717\n",
      "TeV n4/n2 = 2681.812609453029\n",
      "TeV n6/n4 = 2256.074066496864\n",
      "\n",
      "Numerical:\n",
      "TeV n2/n0 = 11037.234042553191\n",
      "TeV n4/n2 = 2771.084337349397\n",
      "TeV n6/n4 = 9391.304347826088\n",
      "\n",
      "Percent errors:\n",
      "191.3%\n",
      "3.3%\n",
      "316.3%\n"
     ]
    }
   ],
   "source": [
    "print(\"Analytical:\")\n",
    "print(\"TeV n2/n0 =\", sigmaout[1][3]/sigmaout[0][3])\n",
    "print(\"TeV n4/n2 =\", sigmaout[2][3]/sigmaout[1][3])\n",
    "print(\"TeV n6/n4 =\", sigmaout[3][3]/sigmaout[2][3])\n",
    "\n",
    "n0 = 3.76E-21\n",
    "n2 = 4.15E-17\n",
    "n4 = 1.15E-13\n",
    "n6 = 1.08E-09\n",
    "\n",
    "print(\"\\nNumerical:\")\n",
    "print(\"TeV n2/n0 =\", n2/n0)\n",
    "print(\"TeV n4/n2 =\", n4/n2)\n",
    "print(\"TeV n6/n4 =\", n6/n4)\n",
    "\n",
    "print(\"\\nPercent errors:\")\n",
    "print(format(abs(((n2/n0)-(sigmaout[1][3]/sigmaout[0][3]))/(sigmaout[1][3]/sigmaout[0][3])), \".1%\"))\n",
    "print(format(abs(((n4/n2)-(sigmaout[2][3]/sigmaout[1][3]))/(sigmaout[2][3]/sigmaout[1][3])), \".1%\"))\n",
    "print(format(abs(((n6/n4)-(sigmaout[3][3]/sigmaout[2][3]))/(sigmaout[3][3]/sigmaout[2][3])), \".1%\"))"
   ]
  },
  {
   "cell_type": "code",
   "execution_count": 5,
   "metadata": {},
   "outputs": [
    {
     "name": "stdout",
     "output_type": "stream",
     "text": [
      "Analytical:\n",
      "TeV n2/n0 = 3789.4709190746717\n",
      "TeV n4/n2 = 2681.812609453029\n",
      "TeV n6/n4 = 2256.074066496864\n",
      "\n",
      "Numerical:\n",
      "TeV n2/n0 = 4764.638346727899\n",
      "TeV n4/n2 = 2771.084337349397\n",
      "TeV n6/n4 = 5982.608695652175\n",
      "\n",
      "Percent errors:\n",
      "25.7%\n",
      "3.3%\n",
      "165.2%\n"
     ]
    }
   ],
   "source": [
    "print(\"Analytical:\")\n",
    "print(\"TeV n2/n0 =\", sigmaout[1][3]/sigmaout[0][3])\n",
    "print(\"TeV n4/n2 =\", sigmaout[2][3]/sigmaout[1][3])\n",
    "print(\"TeV n6/n4 =\", sigmaout[3][3]/sigmaout[2][3])\n",
    "\n",
    "n0 = 8.71E-21\n",
    "n2 = 4.15E-17\n",
    "n4 = 1.15E-13\n",
    "n6 = 6.88E-10\n",
    "\n",
    "print(\"\\nNumerical:\")\n",
    "print(\"TeV n2/n0 =\", n2/n0)\n",
    "print(\"TeV n4/n2 =\", n4/n2)\n",
    "print(\"TeV n6/n4 =\", n6/n4)\n",
    "\n",
    "print(\"\\nPercent errors:\")\n",
    "print(format(abs(((n2/n0)-(sigmaout[1][3]/sigmaout[0][3]))/(sigmaout[1][3]/sigmaout[0][3])), \".1%\"))\n",
    "print(format(abs(((n4/n2)-(sigmaout[2][3]/sigmaout[1][3]))/(sigmaout[2][3]/sigmaout[1][3])), \".1%\"))\n",
    "print(format(abs(((n6/n4)-(sigmaout[3][3]/sigmaout[2][3]))/(sigmaout[3][3]/sigmaout[2][3])), \".1%\"))"
   ]
  },
  {
   "cell_type": "code",
   "execution_count": 10,
   "metadata": {},
   "outputs": [
    {
     "name": "stdout",
     "output_type": "stream",
     "text": [
      "Analytical:\n",
      "TeV n2/n0 = 3789.4709190746717\n",
      "TeV n4/n0 = 10162650.893930014\n",
      "TeV n6/n0 = 22927693128.656673\n"
     ]
    },
    {
     "data": {
      "image/png": "[encoded data removed]",
      "text/plain": [
       "<Figure size 432x288 with 1 Axes>"
      ]
     },
     "metadata": {
      "needs_background": "light"
     },
     "output_type": "display_data"
    }
   ],
   "source": [
    "an2n0 = sigmaout[1][3]/sigmaout[0][3]\n",
    "an4n0 = sigmaout[2][3]/sigmaout[0][3]\n",
    "an6n0 = sigmaout[3][3]/sigmaout[0][3]\n",
    "\n",
    "print(\"Analytical:\")\n",
    "print(\"TeV n2/n0 =\", an2n0)\n",
    "print(\"TeV n4/n0 =\", an4n0)\n",
    "print(\"TeV n6/n0 =\", an6n0)\n",
    "\n",
    "n0 = 8.71E-21\n",
    "n2 = 4.15E-17\n",
    "n4 = 1.15E-13\n",
    "n6 = 6.88E-10\n",
    "\n",
    "nn2 = n0*an2n0\n",
    "nn4 = n0*an4n0\n",
    "nn6 = n0*an6n0\n",
    "\n",
    "import matplotlib.pyplot as plt\n",
    "\n",
    "f,ax = plt.subplots()\n",
    "\n",
    "ax.plot(1.0e3, n0, marker='.', label='Analytical, n = 0', color='tab:blue')\n",
    "ax.plot(1.0e3, nn2, marker='+', label='Analytical, n = 2', color='tab:blue')\n",
    "ax.plot(1.0e3, nn4, marker='x', label='Analytical, n = 4', color='tab:blue')\n",
    "ax.plot(1.0e3, nn6, marker='*', label='Analytical, n = 6', color='tab:blue')\n",
    "\n",
    "ax.plot(1.0e3, n0, marker='.', label='Numerical, n = 0', color='tab:orange')\n",
    "ax.plot(1.0e3, n2, marker='+', label='Numerical, n = 2', color='tab:orange')\n",
    "ax.plot(1.0e3, n4, marker='x', label='Numerical, n = 4', color='tab:orange')\n",
    "ax.plot(1.0e3, n6, marker='*', label='Numerical, n = 6', color='tab:orange')\n",
    "\n",
    "#ax.set_title('DM-electron scattering (n=0, Vrel=0)')\n",
    "ax.set_xlabel('$m_\\chi$ $[\\mathrm{GeV}]$')\n",
    "ax.set_ylabel('$\\sigma_0$ $[\\mathrm{cm}^2]$')\n",
    "ax.set_xscale('log')\n",
    "ax.set_yscale('log')\n",
    "ax.set_xlim([1.0e2, 1.0e4])\n",
    "ax.set_ylim([1.0e-22, 1.0e-8])\n",
    "plt.legend(loc='lower right')\n",
    "plt.savefig('dme_analytical_TeV_comparison.pdf')"
   ]
  },
  {
   "cell_type": "code",
   "execution_count": null,
   "metadata": {},
   "outputs": [],
   "source": []
  }
 ],
 "metadata": {
  "kernelspec": {
   "display_name": "Python 3",
   "language": "python",
   "name": "python3"
  },
  "language_info": {
   "codemirror_mode": {
    "name": "ipython",
    "version": 3
   },
   "file_extension": ".py",
   "mimetype": "text/x-python",
   "name": "python",
   "nbconvert_exporter": "python",
   "pygments_lexer": "ipython3",
   "version": "3.8.2"
  }
 },
 "nbformat": 4,
 "nbformat_minor": 4
}
