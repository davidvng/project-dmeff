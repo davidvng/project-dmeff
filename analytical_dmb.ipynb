{
 "cells": [
  {
   "cell_type": "code",
   "execution_count": 213,
   "metadata": {},
   "outputs": [],
   "source": [
    "import math\n",
    "import numpy as np\n",
    "\n",
    "N0 = (2**(7/2))/(3*np.sqrt(math.pi))\n",
    "c = 3e5 # speed of light in km/s^2\n",
    "Mpc2cm = 3.086e24 # 1 Mpc = 3.086e24 cm\n",
    "omega_b = 0.044 # baryon density\n",
    "rho_crit = 4.755e-6 # critical density in (GeV/c^2)*cm^-3\n",
    "YHe = 0.24 # helium mass fraction\n",
    "Yp = 1.0-YHe # proton mass fraction\n",
    "k = 8.617e-14 # Boltzmann constant in GeV/K\n",
    "T0 = 2.73 # temperature of CMB today in K\n",
    "kT0 = k*T0\n",
    "\n",
    "B = c*Mpc2cm*N0**omega_b*rho_crit*Yp*(kT0**0.5)\n",
    "\n",
    "omega_rad = 1.0e-4 # radiation density\n",
    "H0 = 67.27 # Hubble constant in km/s/Mpc\n",
    "mp = 1.0 # proton mass in GeV/c^2\n",
    "\n",
    "mx = 1.0 # dark matter mass in GeV/c^2\n",
    "sigma0 = 1.8e-25 # cross section in cm^2"
   ]
  },
  {
   "cell_type": "code",
   "execution_count": 214,
   "metadata": {},
   "outputs": [
    {
     "name": "stdout",
     "output_type": "stream",
     "text": [
      "34115.37735518149\n"
     ]
    }
   ],
   "source": [
    "zth = np.power((H0*np.sqrt(omega_rad)*np.sqrt(mx+mp)*np.sqrt(mx*mp)*((mx+mp)/mx))/(B*sigma0), 2./3.)\n",
    "print(zth)"
   ]
  },
  {
   "cell_type": "code",
   "execution_count": 215,
   "metadata": {},
   "outputs": [
    {
     "name": "stdout",
     "output_type": "stream",
     "text": [
      "zth: 34115.37735518117\n",
      "zcrit: 19281.93340883021\n"
     ]
    }
   ],
   "source": [
    "from scipy.optimize import fsolve\n",
    "\n",
    "def func(x):\n",
    "    return [(((mx/(mx+mp))*(B*sigma0*(1/(mx+mp))*(((x[0])*((1/mp)+(1/mx)))**(0.5)))) - (H0*math.sqrt(omega_rad)*(x[0]**2))),\n",
    "            ((B*sigma0*(1/(mx+mp))*((((x[1])/mp)+(((x[1])**2)/(mx*x[0])))**(0.5))) - (H0*math.sqrt(omega_rad)*(x[1]**2)))]\n",
    "\n",
    "root = fsolve(func, [1, 1])\n",
    "zth = 1/root[0]\n",
    "zcrit = 1/root[1]\n",
    "print(\"zth:\", zth)\n",
    "print(\"zcrit:\", zcrit)"
   ]
  },
  {
   "cell_type": "code",
   "execution_count": 216,
   "metadata": {},
   "outputs": [
    {
     "name": "stdout",
     "output_type": "stream",
     "text": [
      "kcrit: 0.08647304402746721\n"
     ]
    },
    {
     "data": {
      "text/plain": [
       "True"
      ]
     },
     "execution_count": 216,
     "metadata": {},
     "output_type": "execute_result"
    }
   ],
   "source": [
    "kcrit = (2*H0*(math.sqrt(omega_rad))*zcrit)/c # 1/Mpc\n",
    "print(\"kcrit:\", kcrit)\n",
    "\n",
    "k = 0.0857 # 1/Mpc\n",
    "bool(kcrit > k)"
   ]
  },
  {
   "cell_type": "code",
   "execution_count": null,
   "metadata": {},
   "outputs": [],
   "source": []
  },
  {
   "cell_type": "code",
   "execution_count": 125,
   "metadata": {},
   "outputs": [],
   "source": [
    "import math\n",
    "import numpy as np\n",
    "from scipy.optimize import fsolve\n",
    "\n",
    "N0 = (2**(7/2))/(3*np.sqrt(math.pi))\n",
    "c = 3e5 # speed of light in km/s^2\n",
    "Mpc2cm = 3.086e24 # 1 Mpc = 3.086e24 cm\n",
    "omega_b = 0.044 # baryon density\n",
    "rho_crit = 4.755e-6 # critical density in (GeV/c^2)*cm^-3\n",
    "YHe = 0.24 # helium mass fraction\n",
    "Yp = 1.0-YHe # proton mass fraction\n",
    "k = 8.617e-14 # Boltzmann constant in GeV/K\n",
    "T0 = 2.73 # temperature of CMB today in K\n",
    "kT0 = k*T0\n",
    "\n",
    "B = c*Mpc2cm*N0**omega_b*rho_crit*Yp*(kT0**0.5)\n",
    "\n",
    "omega_rad = 1.0e-4 # radiation density\n",
    "H0 = 67.27 # Hubble constant in km/s/Mpc\n",
    "mp = 0.938 # proton mass in GeV/c^2\n",
    "\n",
    "#mx = 1.0 # dark matter mass in GeV/c^2\n",
    "#sigma0 = 1.8e-25 # cross section in cm^2"
   ]
  },
  {
   "cell_type": "code",
   "execution_count": 126,
   "metadata": {},
   "outputs": [
    {
     "name": "stdout",
     "output_type": "stream",
     "text": [
      "zcrit: 19109.55849561469\n"
     ]
    }
   ],
   "source": [
    "kcrit = 0.0857 # 1/Mpc\n",
    "\n",
    "zcrit = (kcrit*c)/(2*H0*(math.sqrt(omega_rad)))\n",
    "print(\"zcrit:\", zcrit)"
   ]
  },
  {
   "cell_type": "code",
   "execution_count": 127,
   "metadata": {},
   "outputs": [
    {
     "name": "stdout",
     "output_type": "stream",
     "text": [
      "mx: 1.000000e-06\n",
      "zth: 10759975.587619433\n",
      "sigma0: 6.000669757231036e-30\n",
      "\n",
      "mx: 1.000000e-03\n",
      "zth: 4351752.143177201\n",
      "sigma0: 2.986990396592896e-28\n",
      "\n",
      "mx: 1.000000e+00\n",
      "zth: 32803.95542918368\n",
      "sigma0: 1.7635815198243555e-25\n",
      "\n",
      "mx: 1.000000e+03\n",
      "zth: 19121.510207836476\n",
      "sigma0: 1.4708950328752378e-22\n",
      "\n"
     ]
    },
    {
     "name": "stderr",
     "output_type": "stream",
     "text": [
      "/home/davidvng/anaconda3/envs/dmeff/lib/python3.8/site-packages/scipy/optimize/minpack.py:162: RuntimeWarning: The number of calls to function has reached maxfev = 600.\n",
      "  warnings.warn(msg, RuntimeWarning)\n"
     ]
    }
   ],
   "source": [
    "masses_test = np.array([1.0e-6, 1.0e-3, 1.0, 1.0e3])\n",
    "sigmas = np.zeros(len(masses))\n",
    "\n",
    "for i in range(len(masses_test)):\n",
    "    mx=masses_test[i]\n",
    "    print(\"mx:\", format(mx, 'e'))\n",
    "    \n",
    "    def func(x):\n",
    "        return [(((mx/(mx+mp))*(B*x[1]*(1/(mx+mp))*(((x[0])*((1/mp)+(1/mx)))**(0.5)))) - (H0*math.sqrt(omega_rad)*(x[0]**2))),\n",
    "                ((B*x[1]*(1/(mx+mp))*((((1/zcrit)/mp)+(((1/zcrit)**2)/(mx*x[0])))**(0.5))) - (H0*math.sqrt(omega_rad)*((1/zcrit)**2)))]\n",
    "\n",
    "    root = fsolve(func, [1.0e4, 1.0e-30])\n",
    "    zth = 1/root[0]\n",
    "    sigma0 = root[1]\n",
    "    sigmas[i] = root[1]\n",
    "    print(\"zth:\", zth)\n",
    "    print(\"sigma0:\", sigma0)\n",
    "    print()"
   ]
  },
  {
   "cell_type": "code",
   "execution_count": 128,
   "metadata": {},
   "outputs": [
    {
     "data": {
      "text/plain": [
       "<matplotlib.legend.Legend at 0x7f9b0de22550>"
      ]
     },
     "execution_count": 128,
     "metadata": {},
     "output_type": "execute_result"
    },
    {
     "data": {
      "image/png": "[encoded data removed]",
      "text/plain": [
       "<Figure size 432x288 with 1 Axes>"
      ]
     },
     "metadata": {
      "needs_background": "light"
     },
     "output_type": "display_data"
    }
   ],
   "source": [
    "import matplotlib.pyplot as plt\n",
    "\n",
    "proton_chains = np.array([5.02e-27, 2.45e-26, 1.96e-25, 5.64e-23])\n",
    "\n",
    "f,ax = plt.subplots()\n",
    "\n",
    "ax.plot(masses, sigmas, marker='.', label='Analytical')\n",
    "ax.plot(masses, proton_chains, marker='.', label='Numerical')\n",
    "ax.set_title('DM-proton scattering')\n",
    "ax.set_xlabel('$m_\\chi$ $[\\mathrm{GeV}]$')\n",
    "ax.set_ylabel('$\\sigma_0$ $[\\mathrm{cm}^2]$')\n",
    "ax.set_xscale('log')\n",
    "ax.set_yscale('log')\n",
    "ax.set_xlim([1.0e-6, 1.0e3])\n",
    "ax.set_ylim([1.0e-30, 1.0e-20])\n",
    "ax.fill_between(masses, sigmas, 1.0e-20, alpha=0.5)\n",
    "ax.fill_between(masses, proton_chains, 1.0e-20, alpha=0.5)\n",
    "plt.legend(loc=\"lower right\")"
   ]
  },
  {
   "cell_type": "code",
   "execution_count": 129,
   "metadata": {},
   "outputs": [
    {
     "name": "stdout",
     "output_type": "stream",
     "text": [
      "zth: 19753.115726634154\n",
      "zcrit: 19746.388217438198\n",
      "kcrit: 0.08855596902580451\n"
     ]
    },
    {
     "data": {
      "text/plain": [
       "True"
      ]
     },
     "execution_count": 129,
     "metadata": {},
     "output_type": "execute_result"
    }
   ],
   "source": [
    "import math\n",
    "import numpy as np\n",
    "\n",
    "N0 = (2**(7/2))/(3*np.sqrt(math.pi))\n",
    "c = 3e5 # speed of light in km/s^2\n",
    "Mpc2cm = 3.086e24 # 1 Mpc = 3.086e24 cm\n",
    "omega_b = 0.044 # baryon density\n",
    "rho_crit = 4.755e-6 # critical density in (GeV/c^2)*cm^-3\n",
    "YHe = 0.24 # helium mass fraction\n",
    "Yp = (1.0-YHe)/1836.152 # proton mass fraction\n",
    "k = 8.617e-14 # Boltzmann constant in GeV/K\n",
    "T0 = 2.73 # temperature of CMB today in K\n",
    "kT0 = k*T0\n",
    "\n",
    "B = c*Mpc2cm*N0**omega_b*rho_crit*Yp*(kT0**0.5)\n",
    "\n",
    "omega_rad = 1.0e-4 # radiation density\n",
    "H0 = 67.27 # Hubble constant in km/s/Mpc\n",
    "mp = 0.511e-3 # proton mass in GeV/c^2\n",
    "\n",
    "mx = 1.0 # dark matter mass in GeV/c^2\n",
    "sigma0 = 6.0e-24 # cross section in cm^2\n",
    "\n",
    "from scipy.optimize import fsolve\n",
    "\n",
    "def func(x):\n",
    "    return [(((mx/(mx+mp))*(B*sigma0*(1/(mx+mp))*(((x[0])*((1/mp)+(1/mx)))**(0.5)))) - (H0*math.sqrt(omega_rad)*(x[0]**2))),\n",
    "            ((B*sigma0*(1/(mx+mp))*((((x[1])/mp)+(((x[1])**2)/(mx*x[0])))**(0.5))) - (H0*math.sqrt(omega_rad)*(x[1]**2)))]\n",
    "\n",
    "root = fsolve(func, [1, 1])\n",
    "zth = 1/root[0]\n",
    "zcrit = 1/root[1]\n",
    "print(\"zth:\", zth)\n",
    "print(\"zcrit:\", zcrit)\n",
    "\n",
    "kcrit = (2*H0*(math.sqrt(omega_rad))*zcrit)/c # 1/Mpc\n",
    "print(\"kcrit:\", kcrit)\n",
    "\n",
    "k = 0.0857 # 1/Mpc\n",
    "bool(kcrit > k)"
   ]
  },
  {
   "cell_type": "code",
   "execution_count": null,
   "metadata": {},
   "outputs": [],
   "source": []
  },
  {
   "cell_type": "code",
   "execution_count": 130,
   "metadata": {},
   "outputs": [
    {
     "name": "stdout",
     "output_type": "stream",
     "text": [
      "zcrit: 19109.55849561469\n",
      "mx: 1.000000e-06\n",
      "zth: 3962243.5121884956\n",
      "sigma0: 9.910770811016449e-30\n",
      "\n",
      "mx: 1.000000e-03\n",
      "zth: 26170.07203450285\n",
      "sigma0: 7.302325376187697e-27\n",
      "\n",
      "mx: 1.000000e+00\n",
      "zth: 19116.06903967446\n",
      "sigma0: 6.302411806463656e-24\n",
      "\n",
      "mx: 1.000000e+03\n",
      "zth: 19109.565005604833\n",
      "sigma0: 6.3008043151637735e-21\n",
      "\n"
     ]
    },
    {
     "name": "stderr",
     "output_type": "stream",
     "text": [
      "/home/davidvng/anaconda3/envs/dmeff/lib/python3.8/site-packages/scipy/optimize/minpack.py:162: RuntimeWarning: The number of calls to function has reached maxfev = 600.\n",
      "  warnings.warn(msg, RuntimeWarning)\n"
     ]
    },
    {
     "data": {
      "text/plain": [
       "<matplotlib.legend.Legend at 0x7f9b0dc90b20>"
      ]
     },
     "execution_count": 130,
     "metadata": {},
     "output_type": "execute_result"
    },
    {
     "data": {
      "image/png": "[encoded data removed]",
      "text/plain": [
       "<Figure size 432x288 with 1 Axes>"
      ]
     },
     "metadata": {
      "needs_background": "light"
     },
     "output_type": "display_data"
    }
   ],
   "source": [
    "import math\n",
    "import numpy as np\n",
    "from scipy.optimize import fsolve\n",
    "\n",
    "N0 = (2**(7/2))/(3*np.sqrt(math.pi))\n",
    "c = 3e5 # speed of light in km/s^2\n",
    "Mpc2cm = 3.086e24 # 1 Mpc = 3.086e24 cm\n",
    "omega_b = 0.044 # baryon density\n",
    "rho_crit = 4.755e-6 # critical density in (GeV/c^2)*cm^-3\n",
    "YHe = 0.24 # helium mass fraction\n",
    "Yp = (1.0-YHe)/1836.152 # proton mass fraction\n",
    "k = 8.617e-14 # Boltzmann constant in GeV/K\n",
    "T0 = 2.73 # temperature of CMB today in K\n",
    "kT0 = k*T0\n",
    "\n",
    "B = c*Mpc2cm*N0**omega_b*rho_crit*Yp*(kT0**0.5)\n",
    "\n",
    "omega_rad = 1.0e-4 # radiation density\n",
    "H0 = 67.27 # Hubble constant in km/s/Mpc\n",
    "mp = 0.511e-3 # ELECTRON mass in GeV/c^2\n",
    "\n",
    "#mx = 1.0 # dark matter mass in GeV/c^2\n",
    "#sigma0 = 1.8e-25 # cross section in cm^2\n",
    "\n",
    "kcrit = 0.0857 # 1/Mpc\n",
    "\n",
    "zcrit = (kcrit*c)/(2*H0*(math.sqrt(omega_rad)))\n",
    "print(\"zcrit:\", zcrit)\n",
    "\n",
    "masses_test = np.array([1.0e-6, 1.0e-3, 1.0, 1.0e3])\n",
    "sigmas = np.zeros(len(masses))\n",
    "\n",
    "for i in range(len(masses_test)):\n",
    "    mx=masses_test[i]\n",
    "    print(\"mx:\", format(mx, 'e'))\n",
    "    \n",
    "    def func(x):\n",
    "        return [(((mx/(mx+mp))*(B*x[1]*(1/(mx+mp))*(((x[0])*((1/mp)+(1/mx)))**(0.5)))) - (H0*math.sqrt(omega_rad)*(x[0]**2))),\n",
    "                ((B*x[1]*(1/(mx+mp))*((((1/zcrit)/mp)+(((1/zcrit)**2)/(mx*x[0])))**(0.5))) - (H0*math.sqrt(omega_rad)*((1/zcrit)**2)))]\n",
    "\n",
    "    root = fsolve(func, [1.0e4, 1.0e-25])\n",
    "    zth = 1/root[0]\n",
    "    sigma0 = root[1]\n",
    "    sigmas[i] = root[1]\n",
    "    print(\"zth:\", zth)\n",
    "    print(\"sigma0:\", sigma0)\n",
    "    print()\n",
    "    \n",
    "import matplotlib.pyplot as plt\n",
    "\n",
    "electron_chains = np.array([5.85e-28, 6.92e-27, 7.06e-24, 5.40e-21])\n",
    "\n",
    "f,ax = plt.subplots()\n",
    "\n",
    "ax.plot(masses, sigmas, marker='.', label='Analytical')\n",
    "ax.plot(masses, electron_chains, marker='.', label='Numerical')\n",
    "ax.set_title('DM-electron scattering')\n",
    "ax.set_xlabel('$m_\\chi$ $[\\mathrm{GeV}]$')\n",
    "ax.set_ylabel('$\\sigma_0$ $[\\mathrm{cm}^2]$')\n",
    "ax.set_xscale('log')\n",
    "ax.set_yscale('log')\n",
    "ax.set_xlim([1.0e-6, 1.0e3])\n",
    "ax.set_ylim([1.0e-30, 1.0e-20])\n",
    "ax.fill_between(masses, sigmas, 1.0e-20, alpha=0.5)\n",
    "ax.fill_between(masses, electron_chains, 1.0e-20, alpha=0.5)\n",
    "plt.legend(loc=\"lower right\")"
   ]
  },
  {
   "cell_type": "code",
   "execution_count": null,
   "metadata": {},
   "outputs": [],
   "source": []
  }
 ],
 "metadata": {
  "kernelspec": {
   "display_name": "Python 3",
   "language": "python",
   "name": "python3"
  },
  "language_info": {
   "codemirror_mode": {
    "name": "ipython",
    "version": 3
   },
   "file_extension": ".py",
   "mimetype": "text/x-python",
   "name": "python",
   "nbconvert_exporter": "python",
   "pygments_lexer": "ipython3",
   "version": "3.8.2"
  }
 },
 "nbformat": 4,
 "nbformat_minor": 4
}
